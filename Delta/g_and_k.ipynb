{
 "cells": [
  {
   "cell_type": "code",
   "execution_count": 2,
   "metadata": {},
   "outputs": [],
   "source": [
    "import sympy as sp\n",
    "import matplotlib.pyplot as plt\n",
    "import os\n",
    "import csv\n",
    "from statistics import mean"
   ]
  },
  {
   "cell_type": "code",
   "execution_count": 3,
   "metadata": {},
   "outputs": [
    {
     "data": {
      "text/latex": [
       "$\\displaystyle T e^{- \\frac{1}{T}} e^{-1 + \\frac{\\sigma_{c}}{T \\sigma}}$"
      ],
      "text/plain": [
       "T*exp(-1/T)*exp(-1 + sigma_c/(T*sigma))"
      ]
     },
     "execution_count": 3,
     "metadata": {},
     "output_type": "execute_result"
    }
   ],
   "source": [
    "T, sigma, sigma_c, p = sp.symbols(\"T sigma sigma_c p\")\n",
    "e = sp.exp(-1/T)\n",
    "tau = T*e*sp.exp((sigma_c/(sigma*T))-1)\n",
    "tau"
   ]
  },
  {
   "cell_type": "code",
   "execution_count": 4,
   "metadata": {},
   "outputs": [
    {
     "data": {
      "text/latex": [
       "$\\displaystyle 1 - \\frac{2 \\left(\\log{\\left(T e^{- \\frac{1}{T}} e^{-1 + \\frac{\\sigma_{c}}{T \\sigma}} + T e^{- \\frac{1}{T}} \\right)} - \\frac{\\left(- T e^{- \\frac{1}{T}} e^{-1 + \\frac{\\sigma_{c}}{T \\sigma}} - T e^{- \\frac{1}{T}} \\log{\\left(T e^{- \\frac{1}{T}} \\right)} + \\left(T e^{- \\frac{1}{T}} e^{-1 + \\frac{\\sigma_{c}}{T \\sigma}} + T e^{- \\frac{1}{T}}\\right) \\log{\\left(T e^{- \\frac{1}{T}} e^{-1 + \\frac{\\sigma_{c}}{T \\sigma}} + T e^{- \\frac{1}{T}} \\right)}\\right) e^{\\frac{1}{T}} e^{1 - \\frac{\\sigma_{c}}{T \\sigma}}}{T}\\right)}{- \\log{\\left(T e^{- \\frac{1}{T}} \\right)} + \\log{\\left(T e^{- \\frac{1}{T}} e^{-1 + \\frac{\\sigma_{c}}{T \\sigma}} + T e^{- \\frac{1}{T}} \\right)}}$"
      ],
      "text/plain": [
       "1 - 2*(log(T*exp(-1/T)*exp(-1 + sigma_c/(T*sigma)) + T*exp(-1/T)) - (-T*exp(-1/T)*exp(-1 + sigma_c/(T*sigma)) - T*exp(-1/T)*log(T*exp(-1/T)) + (T*exp(-1/T)*exp(-1 + sigma_c/(T*sigma)) + T*exp(-1/T))*log(T*exp(-1/T)*exp(-1 + sigma_c/(T*sigma)) + T*exp(-1/T)))*exp(1/T)*exp(1 - sigma_c/(T*sigma))/T)/(-log(T*exp(-1/T)) + log(T*exp(-1/T)*exp(-1 + sigma_c/(T*sigma)) + T*exp(-1/T)))"
      ]
     },
     "execution_count": 4,
     "metadata": {},
     "output_type": "execute_result"
    }
   ],
   "source": [
    "inner1 = sp.ln((T*e)+tau)\n",
    "inner2 =  (1/tau)*(-T*e*sp.ln(T*e) + (T*e + tau)*sp.ln(T*e + tau) - tau)\n",
    "inner = inner1 - inner2\n",
    "\n",
    "g_f = 1 - (2/(sp.ln((T*e)+tau)-sp.ln(T*e)))*inner\n",
    "g_f\n"
   ]
  },
  {
   "cell_type": "code",
   "execution_count": 5,
   "metadata": {},
   "outputs": [],
   "source": [
    "L = sp.symbols(\"L\", cls=sp.Function)\n",
    "L = (sp.ln(T*e + tau) - sp.ln(T*e + (1-p)*tau)) / (sp.ln(T*e + tau) - sp.ln(T*e))\n",
    "L\n",
    "\n",
    "def k_index(L, tau_val, T_val, sigma_val, sigma_c_val):\n",
    "  delta = 0.001\n",
    "  k = 0.5\n",
    "  while (True):\n",
    "    L_val = L.subs([(p, k), (tau, tau_val), (T, T_val), (sigma, sigma_val), (sigma_c, sigma_c_val)]).evalf()\n",
    "    #above line gives the Lorentz curve value at a p\n",
    "    if (1-k) - L_val <= 0:\n",
    "      return k\n",
    "    k = k + delta\n",
    "    if k >= 1:\n",
    "      print(\"Cound not find k index\")\n",
    "      break"
   ]
  },
  {
   "cell_type": "code",
   "execution_count": 6,
   "metadata": {},
   "outputs": [
    {
     "name": "stdout",
     "output_type": "stream",
     "text": [
      "s.2c1t.4.txt\n",
      "s.2c1t.5.txt\n",
      "s.2c1t.6.txt\n",
      "s.2c1t.7.txt\n",
      "s.2c1t.8.txt\n",
      "s.2c1t.9.txt\n"
     ]
    }
   ],
   "source": [
    "sim_x = [0.4, 0.5, 0.6, 0.7, 0.8, 0.9]\n",
    "dir_name = 'g_results/'\n",
    "li = os.listdir(dir_name)\n",
    "\n",
    "sim_gy=[]\n",
    "\n",
    "for f_name in li:\n",
    "    array1 = []\n",
    "    file_name = dir_name + f_name\n",
    "    with open(file_name) as file:\n",
    "        reader = csv.reader(file, delimiter=' ')\n",
    "        for row in reader:\n",
    "            array1.append(float(row[1]))\n",
    "    print(f_name)\n",
    "    sim_gy.append(mean(array1))"
   ]
  },
  {
   "cell_type": "code",
   "execution_count": 7,
   "metadata": {},
   "outputs": [
    {
     "name": "stdout",
     "output_type": "stream",
     "text": [
      "s.3c1t.4.txt\n",
      "s.3c1t.5.txt\n",
      "s.3c1t.6.txt\n",
      "s.3c1t.7.txt\n",
      "s.3c1t.8.txt\n",
      "s.3c1t.9.txt\n"
     ]
    }
   ],
   "source": [
    "dir_name = 'k_results/'\n",
    "li = os.listdir(dir_name)\n",
    "\n",
    "sim_ky=[]\n",
    "\n",
    "for f_name in li:\n",
    "    array1 = []\n",
    "    file_name = dir_name + f_name\n",
    "    with open(file_name) as file:\n",
    "        reader = csv.reader(file, delimiter=' ')\n",
    "        for row in reader:\n",
    "            array1.append(float(row[1]))\n",
    "    print(f_name)\n",
    "    sim_ky.append(mean(array1))"
   ]
  },
  {
   "cell_type": "code",
   "execution_count": 8,
   "metadata": {},
   "outputs": [],
   "source": [
    "T_val      = 0.5\n",
    "sigma_val  = 0.2\n",
    "sigma_c_val= 1\n",
    "g_list = []\n",
    "x_list = []\n",
    "i=0.01\n",
    "while i<1:\n",
    "  tau_val = tau.subs([(T, i), (sigma, sigma_val), (sigma_c, sigma_c_val)])\n",
    "  g_f_val = g_f.subs([(tau, tau_val), (T, i), (sigma, sigma_val), (sigma_c, sigma_c_val)])\n",
    "  x_list.append(i)\n",
    "  g_list.append(g_f_val)\n",
    "  i=i + 0.01"
   ]
  },
  {
   "cell_type": "code",
   "execution_count": 9,
   "metadata": {},
   "outputs": [],
   "source": [
    "x_list = []\n",
    "k_list = []\n",
    "i=0.01\n",
    "while(i<=1):\n",
    "  x_list.append(i)\n",
    "  tau_val = tau.subs([(T, i), (sigma, sigma_val), (sigma_c, sigma_c_val)])\n",
    "  k_list.append(k_index(L, tau_val, i, sigma_val, sigma_c_val))\n",
    "  i=i+0.01\n",
    "\n"
   ]
  },
  {
   "cell_type": "code",
   "execution_count": 11,
   "metadata": {},
   "outputs": [
    {
     "data": {
      "text/plain": [
       "Text(0.2, 0.2, 'σ = 0.2')"
      ]
     },
     "execution_count": 11,
     "metadata": {},
     "output_type": "execute_result"
    },
    {
     "data": {
      "image/png": "[encoded data removed]",
      "text/plain": [
       "<Figure size 640x480 with 1 Axes>"
      ]
     },
     "metadata": {},
     "output_type": "display_data"
    }
   ],
   "source": [
    "plt.plot(x_list, g_list)\n",
    "plt.plot(x_list, k_list, \"--\")\n",
    "plt.plot(sim_x, sim_gy, '.',)\n",
    "plt.plot(sim_x, sim_ky, 'x')\n",
    "\n",
    "\n",
    "plt.xlabel(\"Temperature, T\")\n",
    "plt.ylabel(\"g-index, k-index\")\n",
    "plt.legend([\"g-index\", \"k-index\", \"g-index\", \"k-index\"])\n",
    "plt.title('\\u03C3 = 0.2', y=0.2, x=0.2)"
   ]
  }
 ],
 "metadata": {
  "kernelspec": {
   "display_name": "Python 3",
   "language": "python",
   "name": "python3"
  },
  "language_info": {
   "codemirror_mode": {
    "name": "ipython",
    "version": 3
   },
   "file_extension": ".py",
   "mimetype": "text/x-python",
   "name": "python",
   "nbconvert_exporter": "python",
   "pygments_lexer": "ipython3",
   "version": "3.11.3"
  },
  "orig_nbformat": 4
 },
 "nbformat": 4,
 "nbformat_minor": 2
}
